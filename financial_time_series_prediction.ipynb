{
 "cells": [
  {
   "cell_type": "code",
   "execution_count": 1,
   "metadata": {},
   "outputs": [],
   "source": [
    "# Get Yahoo Data\n",
    "import yfinance as yf\n",
    "import datetime as dt\n",
    "import pandas as pd\n",
    "import numpy as np\n",
    "import matplotlib.pyplot as plt"
   ]
  },
  {
   "cell_type": "code",
   "execution_count": 3,
   "metadata": {},
   "outputs": [],
   "source": [
    "# We are going to analyze the stock data of MICROSOFT\n",
    "\n",
    "msft = yf.Ticker(\"MSFT\")"
   ]
  },
  {
   "cell_type": "code",
   "execution_count": 4,
   "metadata": {},
   "outputs": [
    {
     "data": {
      "text/plain": [
       "yfinance.Ticker object <MSFT>"
      ]
     },
     "execution_count": 4,
     "metadata": {},
     "output_type": "execute_result"
    }
   ],
   "source": [
    "msft"
   ]
  },
  {
   "cell_type": "code",
   "execution_count": 5,
   "metadata": {},
   "outputs": [],
   "source": [
    "z = msft.history(period=\"max\")"
   ]
  },
  {
   "cell_type": "code",
   "execution_count": 6,
   "metadata": {},
   "outputs": [
    {
     "data": {
      "text/html": [
       "<div>\n",
       "<style scoped>\n",
       "    .dataframe tbody tr th:only-of-type {\n",
       "        vertical-align: middle;\n",
       "    }\n",
       "\n",
       "    .dataframe tbody tr th {\n",
       "        vertical-align: top;\n",
       "    }\n",
       "\n",
       "    .dataframe thead th {\n",
       "        text-align: right;\n",
       "    }\n",
       "</style>\n",
       "<table border=\"1\" class=\"dataframe\">\n",
       "  <thead>\n",
       "    <tr style=\"text-align: right;\">\n",
       "      <th></th>\n",
       "      <th>Open</th>\n",
       "      <th>High</th>\n",
       "      <th>Low</th>\n",
       "      <th>Close</th>\n",
       "      <th>Volume</th>\n",
       "      <th>Dividends</th>\n",
       "      <th>Stock Splits</th>\n",
       "    </tr>\n",
       "    <tr>\n",
       "      <th>Date</th>\n",
       "      <th></th>\n",
       "      <th></th>\n",
       "      <th></th>\n",
       "      <th></th>\n",
       "      <th></th>\n",
       "      <th></th>\n",
       "      <th></th>\n",
       "    </tr>\n",
       "  </thead>\n",
       "  <tbody>\n",
       "    <tr>\n",
       "      <th>1986-03-13</th>\n",
       "      <td>0.06</td>\n",
       "      <td>0.06</td>\n",
       "      <td>0.06</td>\n",
       "      <td>0.06</td>\n",
       "      <td>1031788800</td>\n",
       "      <td>0.0</td>\n",
       "      <td>0.0</td>\n",
       "    </tr>\n",
       "    <tr>\n",
       "      <th>1986-03-14</th>\n",
       "      <td>0.06</td>\n",
       "      <td>0.07</td>\n",
       "      <td>0.06</td>\n",
       "      <td>0.06</td>\n",
       "      <td>308160000</td>\n",
       "      <td>0.0</td>\n",
       "      <td>0.0</td>\n",
       "    </tr>\n",
       "    <tr>\n",
       "      <th>1986-03-17</th>\n",
       "      <td>0.06</td>\n",
       "      <td>0.07</td>\n",
       "      <td>0.06</td>\n",
       "      <td>0.07</td>\n",
       "      <td>133171200</td>\n",
       "      <td>0.0</td>\n",
       "      <td>0.0</td>\n",
       "    </tr>\n",
       "    <tr>\n",
       "      <th>1986-03-18</th>\n",
       "      <td>0.07</td>\n",
       "      <td>0.07</td>\n",
       "      <td>0.06</td>\n",
       "      <td>0.06</td>\n",
       "      <td>67766400</td>\n",
       "      <td>0.0</td>\n",
       "      <td>0.0</td>\n",
       "    </tr>\n",
       "    <tr>\n",
       "      <th>1986-03-19</th>\n",
       "      <td>0.06</td>\n",
       "      <td>0.06</td>\n",
       "      <td>0.06</td>\n",
       "      <td>0.06</td>\n",
       "      <td>47894400</td>\n",
       "      <td>0.0</td>\n",
       "      <td>0.0</td>\n",
       "    </tr>\n",
       "  </tbody>\n",
       "</table>\n",
       "</div>"
      ],
      "text/plain": [
       "            Open  High   Low  Close      Volume  Dividends  Stock Splits\n",
       "Date                                                                    \n",
       "1986-03-13  0.06  0.06  0.06   0.06  1031788800        0.0           0.0\n",
       "1986-03-14  0.06  0.07  0.06   0.06   308160000        0.0           0.0\n",
       "1986-03-17  0.06  0.07  0.06   0.07   133171200        0.0           0.0\n",
       "1986-03-18  0.07  0.07  0.06   0.06    67766400        0.0           0.0\n",
       "1986-03-19  0.06  0.06  0.06   0.06    47894400        0.0           0.0"
      ]
     },
     "execution_count": 6,
     "metadata": {},
     "output_type": "execute_result"
    }
   ],
   "source": [
    "stock_datarame = pd.DataFrame(z)\n",
    "stock_datarame.head()"
   ]
  },
  {
   "cell_type": "code",
   "execution_count": 7,
   "metadata": {
    "scrolled": true
   },
   "outputs": [
    {
     "data": {
      "text/html": [
       "<div>\n",
       "<style scoped>\n",
       "    .dataframe tbody tr th:only-of-type {\n",
       "        vertical-align: middle;\n",
       "    }\n",
       "\n",
       "    .dataframe tbody tr th {\n",
       "        vertical-align: top;\n",
       "    }\n",
       "\n",
       "    .dataframe thead th {\n",
       "        text-align: right;\n",
       "    }\n",
       "</style>\n",
       "<table border=\"1\" class=\"dataframe\">\n",
       "  <thead>\n",
       "    <tr style=\"text-align: right;\">\n",
       "      <th></th>\n",
       "      <th>Open</th>\n",
       "      <th>High</th>\n",
       "      <th>Low</th>\n",
       "      <th>Close</th>\n",
       "      <th>Volume</th>\n",
       "      <th>Dividends</th>\n",
       "      <th>Stock Splits</th>\n",
       "    </tr>\n",
       "    <tr>\n",
       "      <th>Date</th>\n",
       "      <th></th>\n",
       "      <th></th>\n",
       "      <th></th>\n",
       "      <th></th>\n",
       "      <th></th>\n",
       "      <th></th>\n",
       "      <th></th>\n",
       "    </tr>\n",
       "  </thead>\n",
       "  <tbody>\n",
       "    <tr>\n",
       "      <th>2020-09-17</th>\n",
       "      <td>200.05</td>\n",
       "      <td>204.33</td>\n",
       "      <td>199.96</td>\n",
       "      <td>202.91</td>\n",
       "      <td>34011300</td>\n",
       "      <td>0.0</td>\n",
       "      <td>0.0</td>\n",
       "    </tr>\n",
       "    <tr>\n",
       "      <th>2020-09-18</th>\n",
       "      <td>202.80</td>\n",
       "      <td>203.65</td>\n",
       "      <td>196.25</td>\n",
       "      <td>200.39</td>\n",
       "      <td>55225300</td>\n",
       "      <td>0.0</td>\n",
       "      <td>0.0</td>\n",
       "    </tr>\n",
       "    <tr>\n",
       "      <th>2020-09-21</th>\n",
       "      <td>197.19</td>\n",
       "      <td>202.71</td>\n",
       "      <td>196.38</td>\n",
       "      <td>202.54</td>\n",
       "      <td>39839700</td>\n",
       "      <td>0.0</td>\n",
       "      <td>0.0</td>\n",
       "    </tr>\n",
       "    <tr>\n",
       "      <th>2020-09-22</th>\n",
       "      <td>205.06</td>\n",
       "      <td>208.10</td>\n",
       "      <td>202.08</td>\n",
       "      <td>207.42</td>\n",
       "      <td>33428500</td>\n",
       "      <td>0.0</td>\n",
       "      <td>0.0</td>\n",
       "    </tr>\n",
       "    <tr>\n",
       "      <th>2020-09-23</th>\n",
       "      <td>207.90</td>\n",
       "      <td>208.10</td>\n",
       "      <td>203.70</td>\n",
       "      <td>204.33</td>\n",
       "      <td>13336334</td>\n",
       "      <td>0.0</td>\n",
       "      <td>0.0</td>\n",
       "    </tr>\n",
       "  </tbody>\n",
       "</table>\n",
       "</div>"
      ],
      "text/plain": [
       "              Open    High     Low   Close    Volume  Dividends  Stock Splits\n",
       "Date                                                                         \n",
       "2020-09-17  200.05  204.33  199.96  202.91  34011300        0.0           0.0\n",
       "2020-09-18  202.80  203.65  196.25  200.39  55225300        0.0           0.0\n",
       "2020-09-21  197.19  202.71  196.38  202.54  39839700        0.0           0.0\n",
       "2020-09-22  205.06  208.10  202.08  207.42  33428500        0.0           0.0\n",
       "2020-09-23  207.90  208.10  203.70  204.33  13336334        0.0           0.0"
      ]
     },
     "execution_count": 7,
     "metadata": {},
     "output_type": "execute_result"
    }
   ],
   "source": [
    "stock_datarame.tail()"
   ]
  },
  {
   "cell_type": "code",
   "execution_count": 8,
   "metadata": {},
   "outputs": [
    {
     "data": {
      "text/plain": [
       "(8705, 7)"
      ]
     },
     "execution_count": 8,
     "metadata": {},
     "output_type": "execute_result"
    }
   ],
   "source": [
    "stock_datarame.shape"
   ]
  },
  {
   "cell_type": "code",
   "execution_count": 9,
   "metadata": {},
   "outputs": [
    {
     "data": {
      "text/plain": [
       "DatetimeIndex(['1986-03-13', '1986-03-14', '1986-03-17', '1986-03-18',\n",
       "               '1986-03-19', '1986-03-20', '1986-03-21', '1986-03-24',\n",
       "               '1986-03-25', '1986-03-26',\n",
       "               ...\n",
       "               '2020-09-10', '2020-09-11', '2020-09-14', '2020-09-15',\n",
       "               '2020-09-16', '2020-09-17', '2020-09-18', '2020-09-21',\n",
       "               '2020-09-22', '2020-09-23'],\n",
       "              dtype='datetime64[ns]', name='Date', length=8705, freq=None)"
      ]
     },
     "execution_count": 9,
     "metadata": {},
     "output_type": "execute_result"
    }
   ],
   "source": [
    "stock_datarame.index"
   ]
  },
  {
   "cell_type": "code",
   "execution_count": 10,
   "metadata": {},
   "outputs": [
    {
     "data": {
      "text/plain": [
       "Open            0\n",
       "High            0\n",
       "Low             0\n",
       "Close           0\n",
       "Volume          0\n",
       "Dividends       0\n",
       "Stock Splits    0\n",
       "dtype: int64"
      ]
     },
     "execution_count": 10,
     "metadata": {},
     "output_type": "execute_result"
    }
   ],
   "source": [
    "stock_datarame.isna().sum()"
   ]
  },
  {
   "cell_type": "code",
   "execution_count": 11,
   "metadata": {},
   "outputs": [
    {
     "data": {
      "text/plain": [
       "<matplotlib.axes._subplots.AxesSubplot at 0x7f0a9c1e4390>"
      ]
     },
     "execution_count": 11,
     "metadata": {},
     "output_type": "execute_result"
    },
    {
     "data": {
      "image/png": "[encoded data removed]",
      "text/plain": [
       "<Figure size 864x576 with 1 Axes>"
      ]
     },
     "metadata": {
      "needs_background": "light"
     },
     "output_type": "display_data"
    }
   ],
   "source": [
    "stock_datarame['Close'].plot(figsize=(12,8))"
   ]
  },
  {
   "cell_type": "code",
   "execution_count": 12,
   "metadata": {},
   "outputs": [
    {
     "data": {
      "text/plain": [
       "(8705, 7)"
      ]
     },
     "execution_count": 12,
     "metadata": {},
     "output_type": "execute_result"
    }
   ],
   "source": [
    "stock_datarame.shape"
   ]
  },
  {
   "cell_type": "code",
   "execution_count": 13,
   "metadata": {},
   "outputs": [],
   "source": [
    "# We are going to take starting 8000 data points for training\n",
    "\n",
    "train_len = 8000"
   ]
  },
  {
   "cell_type": "code",
   "execution_count": 14,
   "metadata": {},
   "outputs": [],
   "source": [
    "#Splitting the train-test data\n",
    "\n",
    "train = stock_datarame.iloc[:train_len]\n",
    "test = stock_datarame.iloc[train_len:]"
   ]
  },
  {
   "cell_type": "code",
   "execution_count": 15,
   "metadata": {},
   "outputs": [
    {
     "data": {
      "text/plain": [
       "705"
      ]
     },
     "execution_count": 15,
     "metadata": {},
     "output_type": "execute_result"
    }
   ],
   "source": [
    "len(test)"
   ]
  },
  {
   "cell_type": "code",
   "execution_count": 17,
   "metadata": {},
   "outputs": [],
   "source": [
    "from sklearn.preprocessing import MinMaxScaler\n",
    "scaler = MinMaxScaler()"
   ]
  },
  {
   "cell_type": "code",
   "execution_count": 18,
   "metadata": {},
   "outputs": [
    {
     "data": {
      "text/plain": [
       "MinMaxScaler()"
      ]
     },
     "execution_count": 18,
     "metadata": {},
     "output_type": "execute_result"
    }
   ],
   "source": [
    "# IGNORE WARNING ITS JUST CONVERTING TO FLOATS\n",
    "# WE ONLY FIT TO TRAININ DATA, OTHERWISE WE ARE CHEATING ASSUMING INFO ABOUT TEST SET\n",
    "scaler.fit(train)"
   ]
  },
  {
   "cell_type": "code",
   "execution_count": 19,
   "metadata": {},
   "outputs": [],
   "source": [
    "scaled_train = scaler.transform(train)\n",
    "scaled_test = scaler.transform(test)"
   ]
  },
  {
   "cell_type": "code",
   "execution_count": 37,
   "metadata": {},
   "outputs": [
    {
     "data": {
      "text/plain": [
       "array([0.00000000e+00, 0.00000000e+00, 1.22684333e-04, ...,\n",
       "       9.91657465e-01, 9.92761624e-01, 9.55220218e-01])"
      ]
     },
     "execution_count": 37,
     "metadata": {},
     "output_type": "execute_result"
    }
   ],
   "source": [
    "scaled_train[:,3]"
   ]
  },
  {
   "cell_type": "code",
   "execution_count": 20,
   "metadata": {},
   "outputs": [],
   "source": [
    "# This is the Keras TimeSeriesGenerator\n",
    "\n",
    "from tensorflow.keras.preprocessing.sequence import TimeseriesGenerator"
   ]
  },
  {
   "cell_type": "code",
   "execution_count": 38,
   "metadata": {},
   "outputs": [],
   "source": [
    "# Number of inputs means number of timestamps we are going to consider from the past to predict the future\n",
    "# We have 7 features including the Closing price to predict\n",
    "n_input = 14\n",
    "n_features=7\n",
    "generator = TimeseriesGenerator(scaled_train, scaled_train[:,3], length=n_input, batch_size=100)"
   ]
  },
  {
   "cell_type": "code",
   "execution_count": 41,
   "metadata": {},
   "outputs": [
    {
     "data": {
      "text/plain": [
       "80"
      ]
     },
     "execution_count": 41,
     "metadata": {},
     "output_type": "execute_result"
    }
   ],
   "source": [
    "len(generator)"
   ]
  },
  {
   "cell_type": "code",
   "execution_count": 42,
   "metadata": {},
   "outputs": [],
   "source": [
    "from tensorflow.keras.models import Sequential\n",
    "from tensorflow.keras.layers import Dense\n",
    "from tensorflow.keras.layers import LSTM"
   ]
  },
  {
   "cell_type": "code",
   "execution_count": 43,
   "metadata": {},
   "outputs": [],
   "source": [
    "# define model\n",
    "model = Sequential()\n",
    "model.add(LSTM(150, activation='relu', input_shape=(n_input, n_features)))\n",
    "model.add(Dense(1))\n",
    "model.compile(optimizer='adam', loss='mse')"
   ]
  },
  {
   "cell_type": "code",
   "execution_count": 44,
   "metadata": {},
   "outputs": [
    {
     "name": "stdout",
     "output_type": "stream",
     "text": [
      "Model: \"sequential\"\n",
      "_________________________________________________________________\n",
      "Layer (type)                 Output Shape              Param #   \n",
      "=================================================================\n",
      "lstm (LSTM)                  (None, 150)               94800     \n",
      "_________________________________________________________________\n",
      "dense (Dense)                (None, 1)                 151       \n",
      "=================================================================\n",
      "Total params: 94,951\n",
      "Trainable params: 94,951\n",
      "Non-trainable params: 0\n",
      "_________________________________________________________________\n"
     ]
    }
   ],
   "source": [
    "model.summary()"
   ]
  },
  {
   "cell_type": "code",
   "execution_count": 45,
   "metadata": {},
   "outputs": [
    {
     "name": "stdout",
     "output_type": "stream",
     "text": [
      "WARNING:tensorflow:From <ipython-input-45-ad990dc219c6>:2: Model.fit_generator (from tensorflow.python.keras.engine.training) is deprecated and will be removed in a future version.\n",
      "Instructions for updating:\n",
      "Please use Model.fit, which supports generators.\n",
      "Epoch 1/30\n",
      "WARNING:tensorflow:AutoGraph could not transform <function Model.make_train_function.<locals>.train_function at 0x7f0a64700200> and will run it as-is.\n",
      "Please report this to the TensorFlow team. When filing the bug, set the verbosity to 10 (on Linux, `export AUTOGRAPH_VERBOSITY=10`) and attach the full output.\n",
      "Cause: Bad argument number for Name: 4, expecting 3\n",
      "To silence this warning, decorate the function with @tf.autograph.experimental.do_not_convert\n",
      "WARNING: AutoGraph could not transform <function Model.make_train_function.<locals>.train_function at 0x7f0a64700200> and will run it as-is.\n",
      "Please report this to the TensorFlow team. When filing the bug, set the verbosity to 10 (on Linux, `export AUTOGRAPH_VERBOSITY=10`) and attach the full output.\n",
      "Cause: Bad argument number for Name: 4, expecting 3\n",
      "To silence this warning, decorate the function with @tf.autograph.experimental.do_not_convert\n",
      "80/80 [==============================] - 2s 29ms/step - loss: 0.0111\n",
      "Epoch 2/30\n",
      "80/80 [==============================] - 2s 29ms/step - loss: 1.3206e-04\n",
      "Epoch 3/30\n",
      "80/80 [==============================] - 2s 28ms/step - loss: 2.0558e-04\n",
      "Epoch 4/30\n",
      "80/80 [==============================] - 2s 29ms/step - loss: 8.1919e-05\n",
      "Epoch 5/30\n",
      "80/80 [==============================] - 2s 30ms/step - loss: 8.1361e-05\n",
      "Epoch 6/30\n",
      "80/80 [==============================] - 3s 36ms/step - loss: 1.2983e-04\n",
      "Epoch 7/30\n",
      "80/80 [==============================] - 3s 33ms/step - loss: 7.7508e-05\n",
      "Epoch 8/30\n",
      "80/80 [==============================] - 2s 30ms/step - loss: 6.8935e-05\n",
      "Epoch 9/30\n",
      "80/80 [==============================] - 2s 30ms/step - loss: 1.0823e-04\n",
      "Epoch 10/30\n",
      "80/80 [==============================] - 3s 32ms/step - loss: 1.2307e-04\n",
      "Epoch 11/30\n",
      "80/80 [==============================] - 3s 31ms/step - loss: 8.9236e-05\n",
      "Epoch 12/30\n",
      "80/80 [==============================] - 3s 33ms/step - loss: 9.5878e-05\n",
      "Epoch 13/30\n",
      "80/80 [==============================] - 3s 40ms/step - loss: 9.9407e-05\n",
      "Epoch 14/30\n",
      "80/80 [==============================] - 2s 26ms/step - loss: 1.0242e-04\n",
      "Epoch 15/30\n",
      "80/80 [==============================] - 2s 23ms/step - loss: 6.3252e-05\n",
      "Epoch 16/30\n",
      "80/80 [==============================] - 2s 23ms/step - loss: 7.9771e-05\n",
      "Epoch 17/30\n",
      "80/80 [==============================] - 2s 23ms/step - loss: 8.9631e-05\n",
      "Epoch 18/30\n",
      "80/80 [==============================] - 2s 25ms/step - loss: 1.3962e-04\n",
      "Epoch 19/30\n",
      "80/80 [==============================] - 3s 32ms/step - loss: 1.7357e-04\n",
      "Epoch 20/30\n",
      "80/80 [==============================] - 2s 30ms/step - loss: 8.6959e-05\n",
      "Epoch 21/30\n",
      "80/80 [==============================] - 2s 29ms/step - loss: 6.3392e-05\n",
      "Epoch 22/30\n",
      "80/80 [==============================] - 2s 30ms/step - loss: 1.0563e-04\n",
      "Epoch 23/30\n",
      "80/80 [==============================] - 2s 29ms/step - loss: 2.9557e-04\n",
      "Epoch 24/30\n",
      "80/80 [==============================] - 2s 29ms/step - loss: 1.3107e-04\n",
      "Epoch 25/30\n",
      "80/80 [==============================] - 2s 29ms/step - loss: 7.6937e-05\n",
      "Epoch 26/30\n",
      "80/80 [==============================] - 2s 29ms/step - loss: 8.0766e-05\n",
      "Epoch 27/30\n",
      "80/80 [==============================] - 2s 29ms/step - loss: 6.5793e-05\n",
      "Epoch 28/30\n",
      "80/80 [==============================] - 2s 29ms/step - loss: 6.6455e-05\n",
      "Epoch 29/30\n",
      "80/80 [==============================] - 2s 29ms/step - loss: 7.7080e-05\n",
      "Epoch 30/30\n",
      "80/80 [==============================] - 2s 29ms/step - loss: 8.6819e-05\n"
     ]
    },
    {
     "data": {
      "text/plain": [
       "<tensorflow.python.keras.callbacks.History at 0x7f0a7e9edf90>"
      ]
     },
     "execution_count": 45,
     "metadata": {},
     "output_type": "execute_result"
    }
   ],
   "source": [
    "# fit model\n",
    "model.fit_generator(generator,epochs=30)"
   ]
  },
  {
   "cell_type": "code",
   "execution_count": 46,
   "metadata": {},
   "outputs": [
    {
     "data": {
      "text/plain": [
       "dict_keys(['loss'])"
      ]
     },
     "execution_count": 46,
     "metadata": {},
     "output_type": "execute_result"
    }
   ],
   "source": [
    "model.history.history.keys()"
   ]
  },
  {
   "cell_type": "code",
   "execution_count": 47,
   "metadata": {},
   "outputs": [
    {
     "data": {
      "text/plain": [
       "[<matplotlib.lines.Line2D at 0x7f0a4c620bd0>]"
      ]
     },
     "execution_count": 47,
     "metadata": {},
     "output_type": "execute_result"
    },
    {
     "data": {
      "image/png": "[encoded data removed]",
      "text/plain": [
       "<Figure size 432x288 with 1 Axes>"
      ]
     },
     "metadata": {
      "needs_background": "light"
     },
     "output_type": "display_data"
    }
   ],
   "source": [
    "loss_per_epoch = model.history.history['loss']\n",
    "plt.plot(range(len(loss_per_epoch)),loss_per_epoch)"
   ]
  },
  {
   "cell_type": "code",
   "execution_count": 52,
   "metadata": {},
   "outputs": [],
   "source": [
    "first_eval_batch = scaled_train[-14:]"
   ]
  },
  {
   "cell_type": "code",
   "execution_count": 53,
   "metadata": {},
   "outputs": [
    {
     "data": {
      "text/plain": [
       "array([[0.98070068, 0.97559791, 0.98277144, 0.98527788, 0.01602481,\n",
       "        0.        , 0.        ],\n",
       "       [0.98537185, 0.97571932, 0.9842588 , 0.97767145, 0.01658995,\n",
       "        0.13636364, 0.        ],\n",
       "       [0.98094653, 0.97256283, 0.98723352, 0.98024782, 0.01812441,\n",
       "        0.        , 0.        ],\n",
       "       [0.98119238, 0.96904213, 0.97880516, 0.97080113, 0.01920864,\n",
       "        0.        , 0.        ],\n",
       "       [0.97271051, 0.96285055, 0.9789291 , 0.97227334, 0.01360972,\n",
       "        0.        , 0.        ],\n",
       "       [0.97664413, 0.97741896, 0.98475459, 0.98638204, 0.01839124,\n",
       "        0.        , 0.        ],\n",
       "       [0.98955132, 0.97814738, 0.98834903, 0.97914366, 0.01772644,\n",
       "        0.        , 0.        ],\n",
       "       [0.9798402 , 0.97268423, 0.98525037, 0.98086124, 0.00497492,\n",
       "        0.        , 0.        ],\n",
       "       [0.98340504, 0.97911861, 0.99144769, 0.98809962, 0.01550407,\n",
       "        0.        , 0.        ],\n",
       "       [0.99237861, 0.99162316, 1.        , 1.        , 0.01906002,\n",
       "        0.        , 0.        ],\n",
       "       [1.        , 0.99004492, 0.99008428, 0.98184272, 0.02435888,\n",
       "        0.        , 0.        ],\n",
       "       [0.98574063, 0.98543159, 0.99194348, 0.99165747, 0.02986989,\n",
       "        0.        , 0.        ],\n",
       "       [0.98684696, 0.98870948, 0.99058007, 0.99276162, 0.02644828,\n",
       "        0.        , 0.        ],\n",
       "       [0.99655808, 0.98433896, 0.96046108, 0.95522022, 0.0357372 ,\n",
       "        0.        , 0.        ]])"
      ]
     },
     "execution_count": 53,
     "metadata": {},
     "output_type": "execute_result"
    }
   ],
   "source": [
    "first_eval_batch"
   ]
  },
  {
   "cell_type": "code",
   "execution_count": 54,
   "metadata": {},
   "outputs": [],
   "source": [
    "first_eval_batch = first_eval_batch.reshape((1, 14, n_features))"
   ]
  },
  {
   "cell_type": "code",
   "execution_count": 55,
   "metadata": {},
   "outputs": [
    {
     "data": {
      "text/plain": [
       "array([[0.999812]], dtype=float32)"
      ]
     },
     "execution_count": 55,
     "metadata": {},
     "output_type": "execute_result"
    }
   ],
   "source": [
    "model.predict(first_eval_batch)"
   ]
  },
  {
   "cell_type": "code",
   "execution_count": 102,
   "metadata": {},
   "outputs": [],
   "source": [
    "z = scaled_test[1,3]"
   ]
  },
  {
   "cell_type": "code",
   "execution_count": 107,
   "metadata": {},
   "outputs": [],
   "source": [
    "z = scaled_test[0]\n",
    "z = z.reshape((1,1,7))"
   ]
  },
  {
   "cell_type": "code",
   "execution_count": 108,
   "metadata": {
    "scrolled": true
   },
   "outputs": [],
   "source": [
    "test_predictions = []\n",
    "\n",
    "first_eval_batch = scaled_train[-n_input:]\n",
    "current_batch = first_eval_batch.reshape((1, n_input, n_features))\n",
    "a = scaled_test\n",
    "\n",
    "for i in range(len(test)):\n",
    "    \n",
    "    # get prediction 1 time stamp ahead ([0] is for grabbing just the number instead of [array])\n",
    "    current_pred = model.predict(current_batch)[0]\n",
    "    \n",
    "    # store prediction\n",
    "    test_predictions.append(current_pred)\n",
    "    a[i,3] = current_pred[0]\n",
    "    b = a[i]\n",
    "    b = b.reshape((1,1,7))\n",
    "    \n",
    "    # update batch to now include prediction and drop first value\n",
    "    current_batch = np.append(current_batch[:,1:,:],b,axis=1)"
   ]
  },
  {
   "cell_type": "code",
   "execution_count": 112,
   "metadata": {},
   "outputs": [
    {
     "data": {
      "text/plain": [
       "705"
      ]
     },
     "execution_count": 112,
     "metadata": {},
     "output_type": "execute_result"
    }
   ],
   "source": [
    "len(test_predictions)"
   ]
  },
  {
   "cell_type": "code",
   "execution_count": 120,
   "metadata": {},
   "outputs": [
    {
     "data": {
      "text/plain": [
       "(705, 1)"
      ]
     },
     "execution_count": 120,
     "metadata": {},
     "output_type": "execute_result"
    }
   ],
   "source": [
    "temp = np.array(test_predictions)\n",
    "temp.shape"
   ]
  },
  {
   "cell_type": "code",
   "execution_count": 122,
   "metadata": {},
   "outputs": [],
   "source": [
    "temp = temp.reshape((705,))"
   ]
  },
  {
   "cell_type": "code",
   "execution_count": 123,
   "metadata": {},
   "outputs": [],
   "source": [
    "a[:,3] = np.array(temp)"
   ]
  },
  {
   "cell_type": "code",
   "execution_count": 124,
   "metadata": {},
   "outputs": [
    {
     "data": {
      "text/plain": [
       "array([[7.8170000e+01, 7.9460000e+01, 7.7820000e+01, ..., 2.6152300e+07,\n",
       "        0.0000000e+00, 0.0000000e+00],\n",
       "       [7.8370000e+01, 7.9900000e+01, 7.8260000e+01, ..., 2.6162100e+07,\n",
       "        0.0000000e+00, 0.0000000e+00],\n",
       "       [7.9320000e+01, 7.9570000e+01, 7.8800000e+01, ..., 2.3184500e+07,\n",
       "        0.0000000e+00, 0.0000000e+00],\n",
       "       ...,\n",
       "       [1.9719000e+02, 2.0271000e+02, 1.9638000e+02, ..., 3.9839700e+07,\n",
       "        0.0000000e+00, 0.0000000e+00],\n",
       "       [2.0506000e+02, 2.0810000e+02, 2.0208000e+02, ..., 3.3428500e+07,\n",
       "        0.0000000e+00, 0.0000000e+00],\n",
       "       [2.0790000e+02, 2.0810000e+02, 2.0370000e+02, ..., 1.3336334e+07,\n",
       "        0.0000000e+00, 0.0000000e+00]])"
      ]
     },
     "execution_count": 124,
     "metadata": {},
     "output_type": "execute_result"
    }
   ],
   "source": [
    "z = scaler.inverse_transform(a)\n",
    "z"
   ]
  },
  {
   "cell_type": "code",
   "execution_count": 126,
   "metadata": {},
   "outputs": [
    {
     "data": {
      "text/plain": [
       "array([ 81.55467669,  81.30602507,  81.17983851,  81.17188535,\n",
       "        81.47512566,  81.85480764,  82.32558413,  82.71304922,\n",
       "        82.92442739,  83.16644246,  83.62302279,  83.81728004,\n",
       "        83.91897553,  84.0227407 ,  84.02879423,  84.04403981,\n",
       "        84.11757617,  84.21468536,  84.26990565,  84.35588916,\n",
       "        84.4548834 ,  84.69123361,  85.06641673,  85.41960113,\n",
       "        85.74488874,  85.87496686,  85.99028524,  86.32143205,\n",
       "        86.73521982,  87.01989142,  87.37761354,  87.66722125,\n",
       "        87.9793621 ,  88.53880394,  89.10614549,  89.54405022,\n",
       "        90.03614527,  90.74573031,  90.93647982,  91.34052168,\n",
       "        91.80112474,  91.83401594,  91.35307572,  90.41971394,\n",
       "        90.27381696,  89.64002256,  88.80561615,  88.67642226,\n",
       "        88.5383764 ,  88.55619692,  88.95292207,  89.55229003,\n",
       "        89.86101058,  90.23013045,  90.38657983,  90.79864773,\n",
       "        91.42012129,  92.05416833,  92.41781766,  92.46571152,\n",
       "        92.20931566,  92.25666538,  92.52523633,  92.57598691,\n",
       "        92.86566263,  93.31768581,  93.88537716,  94.22122688,\n",
       "        94.1746545 ,  93.92754785,  93.94889555,  93.67882822,\n",
       "        93.50860049,  93.32956939,  92.73120226,  91.86967641,\n",
       "        91.74910127,  91.8842321 ,  91.40942315,  91.10776667,\n",
       "        90.67902483,  90.23532891,  89.98079867,  90.36955608,\n",
       "        90.40256388,  90.54728514,  90.79199176,  90.94177544,\n",
       "        91.2287985 ,  91.5647551 ,  91.93420534,  92.50296554,\n",
       "        93.10437401,  93.60002539,  93.79674098,  94.02282058,\n",
       "        94.1121758 ,  93.62276258,  93.60481575,  94.11908441,\n",
       "        94.27897352,  94.12227151,  94.10677329,  93.87322151,\n",
       "        93.79689644,  94.10992152,  94.34013074,  94.59166823,\n",
       "        95.08080938,  95.47323001,  95.86368786,  95.99606885,\n",
       "        96.14871898,  96.09234241,  96.11696465,  96.36492637,\n",
       "        96.65523369,  96.79677757,  97.09912394,  97.37425369,\n",
       "        97.51517571,  97.71998535,  98.05172488,  98.41932894,\n",
       "        99.03934498,  99.65956509, 100.21289508, 100.55033835,\n",
       "       100.68860769, 100.79628871, 100.89561332, 101.0666864 ,\n",
       "       101.23008326, 101.23907125, 101.06343129, 100.92959279,\n",
       "       101.17393988, 101.3881359 , 101.21546927, 100.82216441,\n",
       "       100.53773573, 100.27344015,  99.84889594,  99.76499181,\n",
       "        99.60859102,  99.77481545,  99.77645758,  99.94289577,\n",
       "       100.3582285 , 100.75980231, 100.93010778, 101.43047178,\n",
       "       102.13161296, 102.80988092, 103.30149985, 103.7966168 ,\n",
       "       104.02430939, 104.80977253, 105.31129282, 106.03316955,\n",
       "       106.74220074, 107.62700792, 107.95985516, 107.7381481 ,\n",
       "       107.55165453, 107.36585085, 107.26904288, 107.52693512,\n",
       "       107.81833071, 108.16074895, 108.56133165, 108.96777356,\n",
       "       109.13384252, 109.21275224, 109.23949273, 109.18408783,\n",
       "       109.05704133, 108.92674944, 108.84423481, 108.65986921,\n",
       "       108.42708505, 108.48231505, 108.62828977, 109.00559114,\n",
       "       109.480575  , 110.01881488, 110.64047306, 111.12762228,\n",
       "       111.29406048, 111.27526829, 110.87305317, 110.5527794 ,\n",
       "       110.51224112, 110.67290757, 111.13950587, 111.78862358,\n",
       "       112.38063596, 112.79927238, 112.98868097, 113.13328563,\n",
       "       113.30958633, 113.80505309, 113.98514332, 114.44258844,\n",
       "       114.77334658, 115.08354408, 115.21395257, 115.52049658,\n",
       "       115.78692012, 116.07518692, 115.88606983, 115.42059868,\n",
       "       114.81991896, 114.52437432, 113.8084248 , 112.52654266,\n",
       "       112.2028486 , 111.74491764, 111.74062284, 111.94221624,\n",
       "       111.74989262, 111.53866992, 111.3437908 , 110.72640799,\n",
       "       110.02139954, 109.74283977, 109.29025303, 108.91514764,\n",
       "       107.89138123, 107.88824272, 107.89106058, 107.81010062,\n",
       "       107.84810283, 108.02124558, 108.76703524, 109.5988667 ,\n",
       "       109.93525084, 109.78469953, 109.5385937 , 109.27576536,\n",
       "       108.69051584, 108.8471304 , 108.79823572, 107.58215541,\n",
       "       107.09685237, 106.50932913, 106.63791087, 106.95679514,\n",
       "       107.76800767, 108.60316226, 109.25019087, 110.1723298 ,\n",
       "       110.57038615, 109.99357077, 109.76585875, 109.21177085,\n",
       "       109.68894096, 110.2893972 , 110.57861624, 110.36814173,\n",
       "       109.42513122, 108.55220763, 107.93675845, 107.03282871,\n",
       "       106.05944364, 104.35443594, 103.07410848, 102.57696073,\n",
       "       102.66428515, 102.71729002, 102.47061091, 102.03884716,\n",
       "       101.91144114, 102.14801484, 102.54980242, 103.09963439,\n",
       "       103.2980504 , 103.37344266, 103.29582527, 103.53279735,\n",
       "       104.24252814, 104.77521005, 105.53375779, 105.91665601,\n",
       "       106.2252211 , 106.54642768, 106.9674447 , 107.00676839,\n",
       "       106.66331045, 106.64680169, 106.40015173, 106.09494864,\n",
       "       105.96942768, 106.4380179 , 106.79244605, 106.74275459,\n",
       "       106.62595927, 106.77253643, 106.96964069, 107.36362572,\n",
       "       107.45251454, 107.84510036, 108.19166765, 108.38361231,\n",
       "       108.50151535, 109.32992652, 110.2853939 , 111.0319123 ,\n",
       "       111.5515349 , 112.11690395, 112.65095592, 113.0589525 ,\n",
       "       113.31082036, 113.53543273, 113.49095917, 113.16653635,\n",
       "       113.39893184, 113.91287014, 114.57011105, 115.14202919,\n",
       "       115.78850395, 116.47791702, 117.30764967, 117.88472741,\n",
       "       118.52375913, 119.13981075, 119.23900904, 119.59846074,\n",
       "       119.70899848, 119.80711822, 120.04215666, 120.42548242,\n",
       "       120.7888111 , 121.25230004, 121.54309319, 121.79409626,\n",
       "       121.94418117, 121.94108152, 122.16005818, 122.45934377,\n",
       "       122.7587071 , 123.06859367, 123.34117763, 123.58002504,\n",
       "       124.02145696, 124.5252704 , 125.25103383, 126.00047698,\n",
       "       127.62057973, 128.75695354, 129.68903271, 130.46267056,\n",
       "       131.03903898, 130.98692805, 131.21392103, 131.16550247,\n",
       "       130.92677166, 130.66208741, 130.22830257, 130.14348507,\n",
       "       129.76296745, 129.52396457, 129.481687  , 129.87404933,\n",
       "       130.64389765, 130.69359882, 130.85771472, 130.96266533,\n",
       "       130.74193965, 130.83400585, 130.96480301, 130.5944394 ,\n",
       "       130.41838162, 129.97489947, 129.27749923, 128.62424218,\n",
       "       128.85047725, 129.35308582, 130.48203604, 131.98263249,\n",
       "       133.12324281, 133.59955786, 134.19467959, 134.78496239,\n",
       "       135.38312547, 136.19870081, 136.97426258, 138.08368214,\n",
       "       138.94344926, 139.75104715, 140.02641011, 139.99994168,\n",
       "       139.88278684, 139.7924988 , 140.19492769, 140.5006069 ,\n",
       "       140.96203588, 141.15379593, 141.29078266, 141.38678414,\n",
       "       141.76511549, 142.24749379, 142.67660486, 143.11893072,\n",
       "       143.240633  , 143.16250062, 142.7219335 , 143.23996255,\n",
       "       143.33763531, 143.75350246, 144.1176182 , 144.52166978,\n",
       "       144.99569168, 145.35305428, 145.54420217, 145.28864195,\n",
       "       145.054993  , 144.61238535, 143.24040952, 142.586414  ,\n",
       "       141.94774179, 142.24920393, 142.67160074, 142.66216577,\n",
       "       142.60728557, 142.3986864 , 141.59321648, 141.55753658,\n",
       "       142.06898739, 142.5299694 , 143.03193666, 143.25471257,\n",
       "       143.00984078, 142.54685711, 142.45192447, 142.07781019,\n",
       "       142.47906335, 142.91898917, 142.86161177, 142.9749285 ,\n",
       "       143.57470456, 144.02336573, 144.18273986, 143.72687857,\n",
       "       143.30335462, 143.44583131, 143.49921513, 143.24230428,\n",
       "       143.2612228 , 143.38079711, 144.27074445, 144.77859035,\n",
       "       144.89580349, 145.05687805, 144.81245322, 145.02559011,\n",
       "       145.11514939, 145.04651999, 145.14450369, 144.37214845,\n",
       "       143.70215916, 143.71002001, 143.73845122, 143.63126575,\n",
       "       143.73528355, 144.03716352, 144.59830578, 144.91531473,\n",
       "       145.33304749, 145.62446252, 145.85863617, 145.67486329,\n",
       "       145.37007802, 145.26479704, 144.78293374, 145.10352816,\n",
       "       145.39620636, 146.73758415, 147.52297927, 148.12286222,\n",
       "       148.72961491, 149.08525764, 149.56638248, 149.95415851,\n",
       "       150.12594091, 150.33801868, 150.60922287, 151.06039097,\n",
       "       151.69795547, 152.21454644, 152.76875094, 153.55823681,\n",
       "       154.35119157, 155.19486775, 155.74233855, 155.82223938,\n",
       "       156.26283565, 156.80504969, 157.52186399, 158.17912434,\n",
       "       158.64204971, 158.72406879, 158.15105265, 158.22034279,\n",
       "       158.27944978, 158.58564398, 158.91865641, 159.13843956,\n",
       "       159.28547341, 159.58983114, 160.19250279, 161.06236561,\n",
       "       161.68231365, 162.02683071, 162.28737562, 163.23272786,\n",
       "       164.03451514, 164.57855593, 165.14292415, 165.87033943,\n",
       "       166.22867371, 166.24707723, 166.85200317, 167.16723395,\n",
       "       167.14443845, 167.46419724, 167.79658779, 168.67762487,\n",
       "       169.49855415, 170.042867  , 170.67527191, 171.19282484,\n",
       "       172.04737406, 173.1864297 , 174.11980119, 174.8114977 ,\n",
       "       175.17818838, 175.60809623, 174.75024332, 174.83746086,\n",
       "       175.6827986 , 177.67751118, 178.70641775, 179.66561636,\n",
       "       181.98648134, 184.63060313, 186.55269272, 188.60830988,\n",
       "       190.56759519, 192.9397063 , 193.86773358, 194.60719763,\n",
       "       195.20279549, 196.33042423, 197.71574116, 197.80476602,\n",
       "       197.33202674, 193.75321198, 192.2180822 , 190.37368774,\n",
       "       186.94350037, 182.69912716, 182.31424672, 182.67543772,\n",
       "       182.30138175, 181.7385682 , 179.57952596, 176.08429468,\n",
       "       174.45780803, 172.61376337, 168.76422054, 167.1107019 ,\n",
       "       163.62849106, 160.82045743, 158.30247847, 157.34560216,\n",
       "       156.22203502, 153.78217873, 153.93134055, 154.9006543 ,\n",
       "       156.0211801 , 157.04904698, 158.44164176, 160.7955534 ,\n",
       "       161.03185502, 161.06778756, 161.73668857, 163.91754491,\n",
       "       166.98477283, 168.77125547, 170.35156812, 171.21661144,\n",
       "       173.49001981, 175.43933573, 177.82279601, 180.56968214,\n",
       "       182.26140704, 182.25950256, 182.73309691, 183.44603424,\n",
       "       183.78919095, 184.90595637, 185.17338074, 185.67214148,\n",
       "       187.18731304, 187.593959  , 187.82280787, 189.49735356,\n",
       "       190.95371937, 192.33518847, 193.6027967 , 194.59365248,\n",
       "       195.67221164, 195.42373493, 194.59200063, 194.77226576,\n",
       "       196.03408281, 196.79708083, 197.51143679, 197.84897723,\n",
       "       197.96116681, 198.40407568, 197.41349196, 197.30645225,\n",
       "       197.34073294, 197.32926718, 197.58648896, 198.15256734,\n",
       "       198.39455326, 198.57536253, 199.2983081 , 200.41394638,\n",
       "       202.46664851, 203.51119905, 203.80324566, 203.3793039 ,\n",
       "       204.91526931, 206.37573558, 207.41997518, 208.97494655,\n",
       "       210.15446274, 212.44370941, 213.54127454, 213.86070295,\n",
       "       214.31443627, 214.02190382, 214.9420411 , 216.57632058,\n",
       "       218.44378261, 220.65467342, 222.76332459, 224.32068629,\n",
       "       226.66020742, 227.89363213, 228.72680451, 227.7645937 ,\n",
       "       227.99962243, 226.98101561, 226.07145015, 226.18154092,\n",
       "       227.71900271, 228.18824397, 227.70685678, 225.69348804,\n",
       "       224.76077729, 224.23294404, 223.66842035, 222.8588791 ,\n",
       "       222.68893316, 225.33997328, 226.98474684, 228.47578201,\n",
       "       229.54132072, 230.5433119 , 230.20670428, 229.02427307,\n",
       "       228.41505233, 228.75496365, 228.62786857, 228.90831338,\n",
       "       229.34819062, 229.97284156, 230.03549515, 231.33499376,\n",
       "       232.20040631, 232.8391854 , 234.67854659, 237.44743144,\n",
       "       240.57035576, 242.4236119 , 243.77045051, 245.84213917,\n",
       "       246.0735144 , 243.32592866, 239.7237354 , 238.02524765,\n",
       "       236.79732262, 234.42958404, 232.71214862, 232.04058522,\n",
       "       231.54796547, 229.12373371, 227.21435363, 225.19954682,\n",
       "       225.34848515])"
      ]
     },
     "execution_count": 126,
     "metadata": {},
     "output_type": "execute_result"
    }
   ],
   "source": [
    "true_predictions = z[:,3]\n",
    "true_predictions"
   ]
  },
  {
   "cell_type": "code",
   "execution_count": 128,
   "metadata": {},
   "outputs": [],
   "source": [
    "z = scaler.inverse_transform(scaled_test)\n",
    "original_values = z[:,3]"
   ]
  },
  {
   "cell_type": "code",
   "execution_count": 129,
   "metadata": {},
   "outputs": [
    {
     "data": {
      "text/html": [
       "<div>\n",
       "<style scoped>\n",
       "    .dataframe tbody tr th:only-of-type {\n",
       "        vertical-align: middle;\n",
       "    }\n",
       "\n",
       "    .dataframe tbody tr th {\n",
       "        vertical-align: top;\n",
       "    }\n",
       "\n",
       "    .dataframe thead th {\n",
       "        text-align: right;\n",
       "    }\n",
       "</style>\n",
       "<table border=\"1\" class=\"dataframe\">\n",
       "  <thead>\n",
       "    <tr style=\"text-align: right;\">\n",
       "      <th></th>\n",
       "      <th>Open</th>\n",
       "      <th>High</th>\n",
       "      <th>Low</th>\n",
       "      <th>Close</th>\n",
       "      <th>Volume</th>\n",
       "      <th>Dividends</th>\n",
       "      <th>Stock Splits</th>\n",
       "    </tr>\n",
       "    <tr>\n",
       "      <th>Date</th>\n",
       "      <th></th>\n",
       "      <th></th>\n",
       "      <th></th>\n",
       "      <th></th>\n",
       "      <th></th>\n",
       "      <th></th>\n",
       "      <th></th>\n",
       "    </tr>\n",
       "  </thead>\n",
       "  <tbody>\n",
       "    <tr>\n",
       "      <th>2017-12-05</th>\n",
       "      <td>78.17</td>\n",
       "      <td>79.46</td>\n",
       "      <td>77.82</td>\n",
       "      <td>78.41</td>\n",
       "      <td>26152300</td>\n",
       "      <td>0.0</td>\n",
       "      <td>0.0</td>\n",
       "    </tr>\n",
       "    <tr>\n",
       "      <th>2017-12-06</th>\n",
       "      <td>78.37</td>\n",
       "      <td>79.90</td>\n",
       "      <td>78.26</td>\n",
       "      <td>79.55</td>\n",
       "      <td>26162100</td>\n",
       "      <td>0.0</td>\n",
       "      <td>0.0</td>\n",
       "    </tr>\n",
       "    <tr>\n",
       "      <th>2017-12-07</th>\n",
       "      <td>79.32</td>\n",
       "      <td>79.57</td>\n",
       "      <td>78.80</td>\n",
       "      <td>79.27</td>\n",
       "      <td>23184500</td>\n",
       "      <td>0.0</td>\n",
       "      <td>0.0</td>\n",
       "    </tr>\n",
       "    <tr>\n",
       "      <th>2017-12-08</th>\n",
       "      <td>80.37</td>\n",
       "      <td>81.28</td>\n",
       "      <td>80.08</td>\n",
       "      <td>80.88</td>\n",
       "      <td>24489100</td>\n",
       "      <td>0.0</td>\n",
       "      <td>0.0</td>\n",
       "    </tr>\n",
       "    <tr>\n",
       "      <th>2017-12-11</th>\n",
       "      <td>81.00</td>\n",
       "      <td>82.04</td>\n",
       "      <td>80.84</td>\n",
       "      <td>81.91</td>\n",
       "      <td>22857900</td>\n",
       "      <td>0.0</td>\n",
       "      <td>0.0</td>\n",
       "    </tr>\n",
       "    <tr>\n",
       "      <th>...</th>\n",
       "      <td>...</td>\n",
       "      <td>...</td>\n",
       "      <td>...</td>\n",
       "      <td>...</td>\n",
       "      <td>...</td>\n",
       "      <td>...</td>\n",
       "      <td>...</td>\n",
       "    </tr>\n",
       "    <tr>\n",
       "      <th>2020-09-17</th>\n",
       "      <td>200.05</td>\n",
       "      <td>204.33</td>\n",
       "      <td>199.96</td>\n",
       "      <td>202.91</td>\n",
       "      <td>34011300</td>\n",
       "      <td>0.0</td>\n",
       "      <td>0.0</td>\n",
       "    </tr>\n",
       "    <tr>\n",
       "      <th>2020-09-18</th>\n",
       "      <td>202.80</td>\n",
       "      <td>203.65</td>\n",
       "      <td>196.25</td>\n",
       "      <td>200.39</td>\n",
       "      <td>55225300</td>\n",
       "      <td>0.0</td>\n",
       "      <td>0.0</td>\n",
       "    </tr>\n",
       "    <tr>\n",
       "      <th>2020-09-21</th>\n",
       "      <td>197.19</td>\n",
       "      <td>202.71</td>\n",
       "      <td>196.38</td>\n",
       "      <td>202.54</td>\n",
       "      <td>39839700</td>\n",
       "      <td>0.0</td>\n",
       "      <td>0.0</td>\n",
       "    </tr>\n",
       "    <tr>\n",
       "      <th>2020-09-22</th>\n",
       "      <td>205.06</td>\n",
       "      <td>208.10</td>\n",
       "      <td>202.08</td>\n",
       "      <td>207.42</td>\n",
       "      <td>33428500</td>\n",
       "      <td>0.0</td>\n",
       "      <td>0.0</td>\n",
       "    </tr>\n",
       "    <tr>\n",
       "      <th>2020-09-23</th>\n",
       "      <td>207.90</td>\n",
       "      <td>208.10</td>\n",
       "      <td>203.70</td>\n",
       "      <td>204.33</td>\n",
       "      <td>13336334</td>\n",
       "      <td>0.0</td>\n",
       "      <td>0.0</td>\n",
       "    </tr>\n",
       "  </tbody>\n",
       "</table>\n",
       "<p>705 rows × 7 columns</p>\n",
       "</div>"
      ],
      "text/plain": [
       "              Open    High     Low   Close    Volume  Dividends  Stock Splits\n",
       "Date                                                                         \n",
       "2017-12-05   78.17   79.46   77.82   78.41  26152300        0.0           0.0\n",
       "2017-12-06   78.37   79.90   78.26   79.55  26162100        0.0           0.0\n",
       "2017-12-07   79.32   79.57   78.80   79.27  23184500        0.0           0.0\n",
       "2017-12-08   80.37   81.28   80.08   80.88  24489100        0.0           0.0\n",
       "2017-12-11   81.00   82.04   80.84   81.91  22857900        0.0           0.0\n",
       "...            ...     ...     ...     ...       ...        ...           ...\n",
       "2020-09-17  200.05  204.33  199.96  202.91  34011300        0.0           0.0\n",
       "2020-09-18  202.80  203.65  196.25  200.39  55225300        0.0           0.0\n",
       "2020-09-21  197.19  202.71  196.38  202.54  39839700        0.0           0.0\n",
       "2020-09-22  205.06  208.10  202.08  207.42  33428500        0.0           0.0\n",
       "2020-09-23  207.90  208.10  203.70  204.33  13336334        0.0           0.0\n",
       "\n",
       "[705 rows x 7 columns]"
      ]
     },
     "execution_count": 129,
     "metadata": {},
     "output_type": "execute_result"
    }
   ],
   "source": [
    "test"
   ]
  },
  {
   "cell_type": "code",
   "execution_count": 137,
   "metadata": {},
   "outputs": [
    {
     "data": {
      "text/plain": [
       "0       81.554677\n",
       "1       81.306025\n",
       "2       81.179839\n",
       "3       81.171885\n",
       "4       81.475126\n",
       "          ...    \n",
       "700    231.547965\n",
       "701    229.123734\n",
       "702    227.214354\n",
       "703    225.199547\n",
       "704    225.348485\n",
       "Length: 705, dtype: float64"
      ]
     },
     "execution_count": 137,
     "metadata": {},
     "output_type": "execute_result"
    }
   ],
   "source": [
    "true_pred_series = pd.Series(true_predictions)\n",
    "true_pred_series"
   ]
  },
  {
   "cell_type": "code",
   "execution_count": 145,
   "metadata": {},
   "outputs": [
    {
     "name": "stderr",
     "output_type": "stream",
     "text": [
      "/home/aman/anaconda3/envs/tf/lib/python3.7/site-packages/ipykernel_launcher.py:1: SettingWithCopyWarning: \n",
      "A value is trying to be set on a copy of a slice from a DataFrame.\n",
      "Try using .loc[row_indexer,col_indexer] = value instead\n",
      "\n",
      "See the caveats in the documentation: https://pandas.pydata.org/pandas-docs/stable/user_guide/indexing.html#returning-a-view-versus-a-copy\n",
      "  \"\"\"Entry point for launching an IPython kernel.\n"
     ]
    },
    {
     "data": {
      "text/html": [
       "<div>\n",
       "<style scoped>\n",
       "    .dataframe tbody tr th:only-of-type {\n",
       "        vertical-align: middle;\n",
       "    }\n",
       "\n",
       "    .dataframe tbody tr th {\n",
       "        vertical-align: top;\n",
       "    }\n",
       "\n",
       "    .dataframe thead th {\n",
       "        text-align: right;\n",
       "    }\n",
       "</style>\n",
       "<table border=\"1\" class=\"dataframe\">\n",
       "  <thead>\n",
       "    <tr style=\"text-align: right;\">\n",
       "      <th></th>\n",
       "      <th>Open</th>\n",
       "      <th>High</th>\n",
       "      <th>Low</th>\n",
       "      <th>Close</th>\n",
       "      <th>Volume</th>\n",
       "      <th>Dividends</th>\n",
       "      <th>Stock Splits</th>\n",
       "    </tr>\n",
       "    <tr>\n",
       "      <th>Date</th>\n",
       "      <th></th>\n",
       "      <th></th>\n",
       "      <th></th>\n",
       "      <th></th>\n",
       "      <th></th>\n",
       "      <th></th>\n",
       "      <th></th>\n",
       "    </tr>\n",
       "  </thead>\n",
       "  <tbody>\n",
       "    <tr>\n",
       "      <th>2017-12-05</th>\n",
       "      <td>81.554677</td>\n",
       "      <td>79.46</td>\n",
       "      <td>77.82</td>\n",
       "      <td>78.41</td>\n",
       "      <td>26152300</td>\n",
       "      <td>0.0</td>\n",
       "      <td>0.0</td>\n",
       "    </tr>\n",
       "    <tr>\n",
       "      <th>2017-12-06</th>\n",
       "      <td>81.306025</td>\n",
       "      <td>79.90</td>\n",
       "      <td>78.26</td>\n",
       "      <td>79.55</td>\n",
       "      <td>26162100</td>\n",
       "      <td>0.0</td>\n",
       "      <td>0.0</td>\n",
       "    </tr>\n",
       "    <tr>\n",
       "      <th>2017-12-07</th>\n",
       "      <td>81.179839</td>\n",
       "      <td>79.57</td>\n",
       "      <td>78.80</td>\n",
       "      <td>79.27</td>\n",
       "      <td>23184500</td>\n",
       "      <td>0.0</td>\n",
       "      <td>0.0</td>\n",
       "    </tr>\n",
       "    <tr>\n",
       "      <th>2017-12-08</th>\n",
       "      <td>81.171885</td>\n",
       "      <td>81.28</td>\n",
       "      <td>80.08</td>\n",
       "      <td>80.88</td>\n",
       "      <td>24489100</td>\n",
       "      <td>0.0</td>\n",
       "      <td>0.0</td>\n",
       "    </tr>\n",
       "    <tr>\n",
       "      <th>2017-12-11</th>\n",
       "      <td>81.475126</td>\n",
       "      <td>82.04</td>\n",
       "      <td>80.84</td>\n",
       "      <td>81.91</td>\n",
       "      <td>22857900</td>\n",
       "      <td>0.0</td>\n",
       "      <td>0.0</td>\n",
       "    </tr>\n",
       "  </tbody>\n",
       "</table>\n",
       "</div>"
      ],
      "text/plain": [
       "                 Open   High    Low  Close    Volume  Dividends  Stock Splits\n",
       "Date                                                                         \n",
       "2017-12-05  81.554677  79.46  77.82  78.41  26152300        0.0           0.0\n",
       "2017-12-06  81.306025  79.90  78.26  79.55  26162100        0.0           0.0\n",
       "2017-12-07  81.179839  79.57  78.80  79.27  23184500        0.0           0.0\n",
       "2017-12-08  81.171885  81.28  80.08  80.88  24489100        0.0           0.0\n",
       "2017-12-11  81.475126  82.04  80.84  81.91  22857900        0.0           0.0"
      ]
     },
     "execution_count": 145,
     "metadata": {},
     "output_type": "execute_result"
    }
   ],
   "source": [
    "test['Open'] = true_predictions\n",
    "test.head()"
   ]
  },
  {
   "cell_type": "code",
   "execution_count": 149,
   "metadata": {},
   "outputs": [],
   "source": [
    "test_ = test.drop(['High', 'Low', 'Volume', 'Dividends', 'Stock Splits'], axis = 1)\n",
    "test_.rename(columns = {\"Open\": 'close_pred'}, inplace = True)"
   ]
  },
  {
   "cell_type": "code",
   "execution_count": 150,
   "metadata": {},
   "outputs": [
    {
     "data": {
      "text/html": [
       "<div>\n",
       "<style scoped>\n",
       "    .dataframe tbody tr th:only-of-type {\n",
       "        vertical-align: middle;\n",
       "    }\n",
       "\n",
       "    .dataframe tbody tr th {\n",
       "        vertical-align: top;\n",
       "    }\n",
       "\n",
       "    .dataframe thead th {\n",
       "        text-align: right;\n",
       "    }\n",
       "</style>\n",
       "<table border=\"1\" class=\"dataframe\">\n",
       "  <thead>\n",
       "    <tr style=\"text-align: right;\">\n",
       "      <th></th>\n",
       "      <th>close_pred</th>\n",
       "      <th>Close</th>\n",
       "    </tr>\n",
       "    <tr>\n",
       "      <th>Date</th>\n",
       "      <th></th>\n",
       "      <th></th>\n",
       "    </tr>\n",
       "  </thead>\n",
       "  <tbody>\n",
       "    <tr>\n",
       "      <th>2017-12-05</th>\n",
       "      <td>81.554677</td>\n",
       "      <td>78.41</td>\n",
       "    </tr>\n",
       "    <tr>\n",
       "      <th>2017-12-06</th>\n",
       "      <td>81.306025</td>\n",
       "      <td>79.55</td>\n",
       "    </tr>\n",
       "    <tr>\n",
       "      <th>2017-12-07</th>\n",
       "      <td>81.179839</td>\n",
       "      <td>79.27</td>\n",
       "    </tr>\n",
       "    <tr>\n",
       "      <th>2017-12-08</th>\n",
       "      <td>81.171885</td>\n",
       "      <td>80.88</td>\n",
       "    </tr>\n",
       "    <tr>\n",
       "      <th>2017-12-11</th>\n",
       "      <td>81.475126</td>\n",
       "      <td>81.91</td>\n",
       "    </tr>\n",
       "  </tbody>\n",
       "</table>\n",
       "</div>"
      ],
      "text/plain": [
       "            close_pred  Close\n",
       "Date                         \n",
       "2017-12-05   81.554677  78.41\n",
       "2017-12-06   81.306025  79.55\n",
       "2017-12-07   81.179839  79.27\n",
       "2017-12-08   81.171885  80.88\n",
       "2017-12-11   81.475126  81.91"
      ]
     },
     "execution_count": 150,
     "metadata": {},
     "output_type": "execute_result"
    }
   ],
   "source": [
    "test_.head()"
   ]
  },
  {
   "cell_type": "code",
   "execution_count": 151,
   "metadata": {},
   "outputs": [
    {
     "data": {
      "text/plain": [
       "<matplotlib.axes._subplots.AxesSubplot at 0x7f0a4c309450>"
      ]
     },
     "execution_count": 151,
     "metadata": {},
     "output_type": "execute_result"
    },
    {
     "data": {
      "image/png": "[encoded data removed]",
      "text/plain": [
       "<Figure size 864x576 with 1 Axes>"
      ]
     },
     "metadata": {
      "needs_background": "light"
     },
     "output_type": "display_data"
    }
   ],
   "source": [
    "test_.plot(figsize=(12,8))"
   ]
  },
  {
   "cell_type": "code",
   "execution_count": null,
   "metadata": {},
   "outputs": [],
   "source": []
  }
 ],
 "metadata": {
  "kernelspec": {
   "display_name": "Python 3",
   "language": "python",
   "name": "python3"
  },
  "language_info": {
   "codemirror_mode": {
    "name": "ipython",
    "version": 3
   },
   "file_extension": ".py",
   "mimetype": "text/x-python",
   "name": "python",
   "nbconvert_exporter": "python",
   "pygments_lexer": "ipython3",
   "version": "3.7.7"
  }
 },
 "nbformat": 4,
 "nbformat_minor": 4
}
